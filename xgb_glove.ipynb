{
 "cells": [
  {
   "cell_type": "code",
   "execution_count": 1,
   "metadata": {},
   "outputs": [
    {
     "name": "stderr",
     "output_type": "stream",
     "text": [
      "Using TensorFlow backend.\n"
     ]
    }
   ],
   "source": [
    "'''\n",
    "Example of an LSTM model with GloVe embeddings along with magic features\n",
    "\n",
    "Tested under Keras 2.0 with Tensorflow 1.0 backend\n",
    "\n",
    "Single model may achieve LB scores at around 0.18+, average ensembles can get 0.17+\n",
    "'''\n",
    "\n",
    "########################################\n",
    "## import packages\n",
    "########################################\n",
    "import os\n",
    "import re\n",
    "import csv\n",
    "import codecs\n",
    "import numpy as np\n",
    "import pandas as pd\n",
    "\n",
    "from string import punctuation\n",
    "from collections import defaultdict\n",
    "\n",
    "from nltk.corpus import stopwords\n",
    "from nltk.stem import SnowballStemmer\n",
    "\n",
    "from keras.preprocessing.text import Tokenizer\n",
    "from keras.preprocessing.sequence import pad_sequences\n",
    "from keras.layers import Dense, Input, LSTM, Embedding, Dropout, Activation\n",
    "from keras.layers.merge import concatenate\n",
    "from keras.models import Model\n",
    "from keras.layers.normalization import BatchNormalization\n",
    "from keras.callbacks import EarlyStopping, ModelCheckpoint\n",
    "\n",
    "from sklearn.preprocessing import StandardScaler\n",
    "\n",
    "import sys\n",
    "#reload(sys)\n",
    "#sys.setdefaultencoding('utf-8')\n",
    "\n",
    "########################################\n",
    "## set directories and parameters\n",
    "########################################\n",
    "BASE_DIR = './'\n",
    "EMBEDDING_FILE = BASE_DIR + 'glove.840B.300d.txt'\n",
    "TRAIN_DATA_FILE = BASE_DIR + './examples_v2.csv'\n",
    "TEST_DATA_FILE = BASE_DIR + 'test.csv'\n",
    "MAX_SEQUENCE_LENGTH = 30\n",
    "MAX_NB_WORDS = 200000\n",
    "EMBEDDING_DIM = 300\n",
    "VALIDATION_SPLIT = 0.1"
   ]
  },
  {
   "cell_type": "code",
   "execution_count": 3,
   "metadata": {},
   "outputs": [
    {
     "name": "stdout",
     "output_type": "stream",
     "text": [
      "Indexing word vectors\n",
      "Found 2055631 word vectors of glove.\n",
      "Processing text dataset\n"
     ]
    }
   ],
   "source": [
    "#these should accomodate the context and abstruct\n",
    "\n",
    "'''\n",
    "Example of an LSTM model with GloVe embeddings along with magic features\n",
    "\n",
    "Tested under Keras 2.0 with Tensorflow 1.0 backend\n",
    "\n",
    "Single model may achieve LB scores at around 0.18+, average ensembles can get 0.17+\n",
    "'''\n",
    "\n",
    "########################################\n",
    "## import packages\n",
    "########################################\n",
    "import os\n",
    "import re\n",
    "import csv\n",
    "import codecs\n",
    "import numpy as np\n",
    "import pandas as pd\n",
    "\n",
    "from string import punctuation\n",
    "from collections import defaultdict\n",
    "\n",
    "from nltk.corpus import stopwords\n",
    "from nltk.stem import SnowballStemmer\n",
    "\n",
    "from keras.preprocessing.text import Tokenizer\n",
    "from keras.preprocessing.sequence import pad_sequences\n",
    "from keras.layers import Dense, Input, LSTM, Embedding, Dropout, Activation\n",
    "from keras.layers.merge import concatenate\n",
    "from keras.models import Model\n",
    "from keras.layers.normalization import BatchNormalization\n",
    "from keras.callbacks import EarlyStopping, ModelCheckpoint\n",
    "\n",
    "from sklearn.preprocessing import StandardScaler\n",
    "\n",
    "import sys\n",
    "#reload(sys)\n",
    "#sys.setdefaultencoding('utf-8')\n",
    "\n",
    "########################################\n",
    "## set directories and parameters\n",
    "########################################\n",
    "BASE_DIR = './'\n",
    "EMBEDDING_FILE = BASE_DIR + '../../embeddings/glove.840B.300d.txt'\n",
    "TRAIN_DATA_FILE = BASE_DIR + 'examples_v2.csv'\n",
    "TEST_DATA_FILE = BASE_DIR + 'test.csv'\n",
    "MAX_SEQUENCE_LENGTH = 30\n",
    "MAX_NB_WORDS = 200000\n",
    "EMBEDDING_DIM = 300\n",
    "VALIDATION_SPLIT = 0.1\n",
    "\n",
    "num_lstm = np.random.randint(175, 275)\n",
    "num_dense = np.random.randint(100, 150)\n",
    "rate_drop_lstm = 0.15 + np.random.rand() * 0.25\n",
    "rate_drop_dense = 0.15 + np.random.rand() * 0.25\n",
    "\n",
    "act = 'relu'\n",
    "re_weight = True # whether to re-weight classes to fit the 17.5% share in test set\n",
    "\n",
    "STAMP = 'lstm_%d_%d_%.2f_%.2f'%(num_lstm, num_dense, rate_drop_lstm, \\\n",
    "        rate_drop_dense)\n",
    "\n",
    "########################################\n",
    "## index word vectors\n",
    "########################################\n",
    "print('Indexing word vectors')\n",
    "\n",
    "embeddings_index = {}\n",
    "f = open(EMBEDDING_FILE)\n",
    "count = 0\n",
    "for line in f:\n",
    "    values = line.split()\n",
    "    count+=1\n",
    "    #print(count)\n",
    "    #if (count != 52344) and (count!=128262) and (count!=151103)and (count!=200669):\n",
    "    word = values[0]\n",
    "    if (not '@' in line) and (not '.' in word)and (not '.com' in line):\n",
    "        coefs = np.asarray(values[1:], dtype='float32')\n",
    "        embeddings_index[word] = coefs\n",
    "f.close()\n",
    "\n",
    "print('Found %d word vectors of glove.' % len(embeddings_index))\n",
    "\n",
    "########################################\n",
    "## process texts in datasets\n",
    "########################################\n",
    "print('Processing text dataset')\n",
    "\n",
    "# The function \"text_to_wordlist\" is from\n",
    "# https://www.kaggle.com/currie32/quora-question-pairs/the-importance-of-cleaning-text\n",
    "def text_to_wordlist(text, remove_stopwords=False, stem_words=False):\n",
    "    # Clean the text, with the option to remove stopwords and to stem words.\n",
    "    \n",
    "    # Convert words to lower case and split them\n",
    "    text = text.lower().split()\n",
    "\n",
    "    # Optionally, remove stop words\n",
    "    if remove_stopwords:\n",
    "        stops = set(stopwords.words(\"english\"))\n",
    "        text = [w for w in text if not w in stops]\n",
    "    \n",
    "    text = \" \".join(text)\n",
    "\n",
    "    # Clean the text\n",
    "    text = re.sub(r\"[^A-Za-z0-9^,!.\\/'+-=]\", \" \", text)\n",
    "    text = re.sub(r\"what's\", \"what is \", text)\n",
    "    text = re.sub(r\"\\'s\", \" \", text)\n",
    "    text = re.sub(r\"\\'ve\", \" have \", text)\n",
    "    text = re.sub(r\"can't\", \"cannot \", text)\n",
    "    text = re.sub(r\"n't\", \" not \", text)\n",
    "    text = re.sub(r\"i'm\", \"i am \", text)\n",
    "    text = re.sub(r\"\\'re\", \" are \", text)\n",
    "    text = re.sub(r\"\\'d\", \" would \", text)\n",
    "    text = re.sub(r\"\\'ll\", \" will \", text)\n",
    "    text = re.sub(r\",\", \" \", text)\n",
    "    text = re.sub(r\"\\.\", \" \", text)\n",
    "    text = re.sub(r\"!\", \" ! \", text)\n",
    "    text = re.sub(r\"\\/\", \" \", text)\n",
    "    text = re.sub(r\"\\^\", \" ^ \", text)\n",
    "    text = re.sub(r\"\\+\", \" + \", text)\n",
    "    text = re.sub(r\"\\-\", \" - \", text)\n",
    "    text = re.sub(r\"\\=\", \" = \", text)\n",
    "    text = re.sub(r\"'\", \" \", text)\n",
    "    text = re.sub(r\"(\\d+)(k)\", r\"\\g<1>000\", text)\n",
    "    text = re.sub(r\":\", \" : \", text)\n",
    "    text = re.sub(r\" e g \", \" eg \", text)\n",
    "    text = re.sub(r\" b g \", \" bg \", text)\n",
    "    text = re.sub(r\" u s \", \" american \", text)\n",
    "    text = re.sub(r\"\\0s\", \"0\", text)\n",
    "    text = re.sub(r\" 9 11 \", \"911\", text)\n",
    "    text = re.sub(r\"e - mail\", \"email\", text)\n",
    "    text = re.sub(r\"j k\", \"jk\", text)\n",
    "    text = re.sub(r\"\\s{2,}\", \" \", text)\n",
    "    \n",
    "    # Optionally, shorten words to their stems\n",
    "    if stem_words:\n",
    "        text = text.split()\n",
    "        stemmer = SnowballStemmer('english')\n",
    "        stemmed_words = [stemmer.stem(word) for word in text]\n",
    "        text = \" \".join(stemmed_words)\n",
    "    \n",
    "    # Return a list of words\n",
    "    return(text)"
   ]
  },
  {
   "cell_type": "code",
   "execution_count": 4,
   "metadata": {},
   "outputs": [
    {
     "name": "stdout",
     "output_type": "stream",
     "text": [
      "Found 214604 texts in train.csv\n",
      "Found 183299 unique tokens\n"
     ]
    }
   ],
   "source": [
    "phrases = []\n",
    "contexts = [] \n",
    "abstructs = []\n",
    "labels = []\n",
    "pages = []\n",
    "#i=0\n",
    "with codecs.open(TRAIN_DATA_FILE, encoding='utf-8') as f:\n",
    "    reader = csv.reader(f, delimiter=',')\n",
    "    header = next(reader)\n",
    "    for values in reader:\n",
    "        contexts.append(text_to_wordlist(values[3]))\n",
    "        abstructs.append(text_to_wordlist(values[6]))\n",
    "        labels.append(int(values[-1]))\n",
    "        phrases.append(text_to_wordlist(values[1]))\n",
    "        pages.append(text_to_wordlist(values[5]))\n",
    "        #if i > 4 :\n",
    "        #    break\n",
    "        #i+=1\n",
    "print('Found %s texts in train.csv' % len(contexts))\n",
    "\n",
    "tokenizer = Tokenizer(num_words=MAX_NB_WORDS)\n",
    "tokenizer.fit_on_texts(contexts + abstructs)\n",
    "\n",
    "sequences_1 = tokenizer.texts_to_sequences(contexts)\n",
    "sequences_2 = tokenizer.texts_to_sequences(abstructs)\n",
    "#test_sequences_1 = tokenizer.texts_to_sequences(test_contexts)\n",
    "#test_sequences_2 = tokenizer.texts_to_sequences(test_abstructs)\n",
    "\n",
    "word_index = tokenizer.word_index\n",
    "print('Found %s unique tokens' % len(word_index))"
   ]
  },
  {
   "cell_type": "code",
   "execution_count": 5,
   "metadata": {
    "scrolled": true
   },
   "outputs": [
    {
     "data": {
      "text/plain": [
       "2055631"
      ]
     },
     "execution_count": 5,
     "metadata": {},
     "output_type": "execute_result"
    }
   ],
   "source": [
    "len(embeddings_index)"
   ]
  },
  {
   "cell_type": "code",
   "execution_count": 6,
   "metadata": {},
   "outputs": [
    {
     "name": "stdout",
     "output_type": "stream",
     "text": [
      "Shape of data tensor: (214604, 30)\n",
      "Shape of label tensor: (214604,)\n"
     ]
    },
    {
     "data": {
      "text/plain": [
       "'\\ntest_data_1 = pad_sequences(test_sequences_1, maxlen=MAX_SEQUENCE_LENGTH)\\ntest_data_2 = pad_sequences(test_sequences_2, maxlen=MAX_SEQUENCE_LENGTH)\\ntest_ids = np.array(test_ids)\\n'"
      ]
     },
     "execution_count": 6,
     "metadata": {},
     "output_type": "execute_result"
    }
   ],
   "source": [
    "\n",
    "\n",
    "data_1 = pad_sequences(sequences_1, maxlen=MAX_SEQUENCE_LENGTH)\n",
    "data_2 = pad_sequences(sequences_2, maxlen=MAX_SEQUENCE_LENGTH)\n",
    "labels = np.array(labels)\n",
    "print('Shape of data tensor:', data_1.shape)\n",
    "print('Shape of label tensor:', labels.shape)\n",
    "\n",
    "'''\n",
    "test_data_1 = pad_sequences(test_sequences_1, maxlen=MAX_SEQUENCE_LENGTH)\n",
    "test_data_2 = pad_sequences(test_sequences_2, maxlen=MAX_SEQUENCE_LENGTH)\n",
    "test_ids = np.array(test_ids)\n",
    "'''\n"
   ]
  },
  {
   "cell_type": "code",
   "execution_count": 7,
   "metadata": {},
   "outputs": [
    {
     "name": "stdout",
     "output_type": "stream",
     "text": [
      "Preparing embedding matrix\n",
      "Null word embeddings: 72416\n"
     ]
    }
   ],
   "source": [
    "print('Preparing embedding matrix')\n",
    "\n",
    "nb_words = min(MAX_NB_WORDS, len(word_index))+1\n",
    "\n",
    "embedding_matrix = np.zeros((nb_words, EMBEDDING_DIM))\n",
    "for word, i in word_index.items():\n",
    "    embedding_vector = embeddings_index.get(word)\n",
    "    if embedding_vector is not None:\n",
    "        embedding_matrix[i] = embedding_vector\n",
    "print('Null word embeddings: %d' % np.sum(np.sum(embedding_matrix, axis=1) == 0))"
   ]
  },
  {
   "cell_type": "code",
   "execution_count": 8,
   "metadata": {
    "collapsed": true
   },
   "outputs": [],
   "source": [
    "embedding_layer = Embedding(nb_words,\n",
    "        EMBEDDING_DIM,\n",
    "        weights=[embedding_matrix],\n",
    "        input_length=MAX_SEQUENCE_LENGTH,\n",
    "        trainable=False)\n",
    "lstm_layer = LSTM(num_lstm, dropout=rate_drop_lstm, recurrent_dropout=rate_drop_lstm)\n",
    "\n",
    "sequence_1_input = Input(shape=(MAX_SEQUENCE_LENGTH,), dtype='int32')\n",
    "embedded_sequences_1 = embedding_layer(sequence_1_input)\n",
    "x1 = lstm_layer(embedded_sequences_1)\n",
    "\n",
    "sequence_2_input = Input(shape=(MAX_SEQUENCE_LENGTH,), dtype='int32')\n",
    "embedded_sequences_2 = embedding_layer(sequence_2_input)\n",
    "y1 = lstm_layer(embedded_sequences_2)"
   ]
  },
  {
   "cell_type": "code",
   "execution_count": 9,
   "metadata": {
    "collapsed": true
   },
   "outputs": [],
   "source": [
    "merged = concatenate([x1, y1])\n",
    "merged = BatchNormalization()(merged)\n",
    "merged = Dropout(rate_drop_dense)(merged)\n",
    "\n",
    "merged = Dense(num_dense, activation=act)(merged)\n",
    "merged = BatchNormalization()(merged)\n",
    "merged = Dropout(rate_drop_dense)(merged)\n",
    "\n",
    "preds = Dense(1, activation='sigmoid')(merged)"
   ]
  },
  {
   "cell_type": "code",
   "execution_count": 15,
   "metadata": {},
   "outputs": [],
   "source": [
    "perm = np.random.permutation(len(data_1))\n",
    "idx_train = perm[:int(len(data_1)*(1-VALIDATION_SPLIT))]\n",
    "idx_val = perm[int(len(data_1)*(1-VALIDATION_SPLIT)):]\n",
    "\n",
    "data_1_train = np.vstack((data_1[idx_train], data_2[idx_train]))\n",
    "data_2_train = np.vstack((data_2[idx_train], data_1[idx_train]))\n",
    "#leaks_train = np.vstack((leaks[idx_train], leaks[idx_train]))\n",
    "labels_train = np.concatenate((labels[idx_train], labels[idx_train]))\n",
    "\n",
    "data_1_val = np.vstack((data_1[idx_val], data_2[idx_val]))\n",
    "data_2_val = np.vstack((data_2[idx_val], data_1[idx_val]))\n",
    "#leaks_val = np.vstack((leaks[idx_val], leaks[idx_val]))\n",
    "labels_val = np.concatenate((labels[idx_val], labels[idx_val]))"
   ]
  },
  {
   "cell_type": "code",
   "execution_count": 18,
   "metadata": {
    "scrolled": true
   },
   "outputs": [
    {
     "name": "stdout",
     "output_type": "stream",
     "text": [
      "lstm_176_126_0.27_0.33\n",
      "Train on 386286 samples, validate on 42922 samples\n",
      "Epoch 1/200\n",
      " 12288/386286 [..............................] - ETA: 859s - loss: nan - acc: 0.0000e+00"
     ]
    },
    {
     "ename": "KeyboardInterrupt",
     "evalue": "",
     "output_type": "error",
     "traceback": [
      "\u001b[0;31m---------------------------------------------------------------------------\u001b[0m",
      "\u001b[0;31mKeyboardInterrupt\u001b[0m                         Traceback (most recent call last)",
      "\u001b[0;32m<ipython-input-18-bf8e78a328f3>\u001b[0m in \u001b[0;36m<module>\u001b[0;34m()\u001b[0m\n\u001b[1;32m     10\u001b[0m \u001b[0mmodel_checkpoint\u001b[0m \u001b[0;34m=\u001b[0m \u001b[0mModelCheckpoint\u001b[0m\u001b[0;34m(\u001b[0m\u001b[0mbst_model_path\u001b[0m\u001b[0;34m,\u001b[0m \u001b[0msave_best_only\u001b[0m\u001b[0;34m=\u001b[0m\u001b[0;32mTrue\u001b[0m\u001b[0;34m,\u001b[0m \u001b[0msave_weights_only\u001b[0m\u001b[0;34m=\u001b[0m\u001b[0;32mTrue\u001b[0m\u001b[0;34m)\u001b[0m\u001b[0;34m\u001b[0m\u001b[0m\n\u001b[1;32m     11\u001b[0m \u001b[0;34m\u001b[0m\u001b[0m\n\u001b[0;32m---> 12\u001b[0;31m \u001b[0mhist\u001b[0m \u001b[0;34m=\u001b[0m \u001b[0mmodel\u001b[0m\u001b[0;34m.\u001b[0m\u001b[0mfit\u001b[0m\u001b[0;34m(\u001b[0m\u001b[0;34m[\u001b[0m\u001b[0mdata_1_train\u001b[0m\u001b[0;34m,\u001b[0m \u001b[0mdata_2_train\u001b[0m\u001b[0;34m,\u001b[0m \u001b[0;34m]\u001b[0m\u001b[0;34m,\u001b[0m \u001b[0mlabels_train\u001b[0m\u001b[0;34m,\u001b[0m         \u001b[0mvalidation_data\u001b[0m\u001b[0;34m=\u001b[0m\u001b[0;34m(\u001b[0m\u001b[0;34m[\u001b[0m\u001b[0mdata_1_val\u001b[0m\u001b[0;34m,\u001b[0m \u001b[0mdata_2_val\u001b[0m\u001b[0;34m]\u001b[0m\u001b[0;34m,\u001b[0m \u001b[0mlabels_val\u001b[0m\u001b[0;34m)\u001b[0m\u001b[0;34m,\u001b[0m         \u001b[0mepochs\u001b[0m\u001b[0;34m=\u001b[0m\u001b[0;36m200\u001b[0m\u001b[0;34m,\u001b[0m \u001b[0mbatch_size\u001b[0m\u001b[0;34m=\u001b[0m\u001b[0;36m2048\u001b[0m\u001b[0;34m,\u001b[0m \u001b[0mshuffle\u001b[0m\u001b[0;34m=\u001b[0m\u001b[0;32mTrue\u001b[0m\u001b[0;34m,\u001b[0m         \u001b[0mcallbacks\u001b[0m\u001b[0;34m=\u001b[0m\u001b[0;34m[\u001b[0m\u001b[0mearly_stopping\u001b[0m\u001b[0;34m,\u001b[0m \u001b[0mmodel_checkpoint\u001b[0m\u001b[0;34m]\u001b[0m\u001b[0;34m)\u001b[0m\u001b[0;34m\u001b[0m\u001b[0m\n\u001b[0m",
      "\u001b[0;32m~/anaconda3/lib/python3.6/site-packages/keras/engine/training.py\u001b[0m in \u001b[0;36mfit\u001b[0;34m(self, x, y, batch_size, epochs, verbose, callbacks, validation_split, validation_data, shuffle, class_weight, sample_weight, initial_epoch, steps_per_epoch, validation_steps, **kwargs)\u001b[0m\n\u001b[1;32m   1598\u001b[0m                               \u001b[0minitial_epoch\u001b[0m\u001b[0;34m=\u001b[0m\u001b[0minitial_epoch\u001b[0m\u001b[0;34m,\u001b[0m\u001b[0;34m\u001b[0m\u001b[0m\n\u001b[1;32m   1599\u001b[0m                               \u001b[0msteps_per_epoch\u001b[0m\u001b[0;34m=\u001b[0m\u001b[0msteps_per_epoch\u001b[0m\u001b[0;34m,\u001b[0m\u001b[0;34m\u001b[0m\u001b[0m\n\u001b[0;32m-> 1600\u001b[0;31m                               validation_steps=validation_steps)\n\u001b[0m\u001b[1;32m   1601\u001b[0m \u001b[0;34m\u001b[0m\u001b[0m\n\u001b[1;32m   1602\u001b[0m     def evaluate(self, x=None, y=None,\n",
      "\u001b[0;32m~/anaconda3/lib/python3.6/site-packages/keras/engine/training.py\u001b[0m in \u001b[0;36m_fit_loop\u001b[0;34m(self, f, ins, out_labels, batch_size, epochs, verbose, callbacks, val_f, val_ins, shuffle, callback_metrics, initial_epoch, steps_per_epoch, validation_steps)\u001b[0m\n\u001b[1;32m   1181\u001b[0m                     \u001b[0mbatch_logs\u001b[0m\u001b[0;34m[\u001b[0m\u001b[0;34m'size'\u001b[0m\u001b[0;34m]\u001b[0m \u001b[0;34m=\u001b[0m \u001b[0mlen\u001b[0m\u001b[0;34m(\u001b[0m\u001b[0mbatch_ids\u001b[0m\u001b[0;34m)\u001b[0m\u001b[0;34m\u001b[0m\u001b[0m\n\u001b[1;32m   1182\u001b[0m                     \u001b[0mcallbacks\u001b[0m\u001b[0;34m.\u001b[0m\u001b[0mon_batch_begin\u001b[0m\u001b[0;34m(\u001b[0m\u001b[0mbatch_index\u001b[0m\u001b[0;34m,\u001b[0m \u001b[0mbatch_logs\u001b[0m\u001b[0;34m)\u001b[0m\u001b[0;34m\u001b[0m\u001b[0m\n\u001b[0;32m-> 1183\u001b[0;31m                     \u001b[0mouts\u001b[0m \u001b[0;34m=\u001b[0m \u001b[0mf\u001b[0m\u001b[0;34m(\u001b[0m\u001b[0mins_batch\u001b[0m\u001b[0;34m)\u001b[0m\u001b[0;34m\u001b[0m\u001b[0m\n\u001b[0m\u001b[1;32m   1184\u001b[0m                     \u001b[0;32mif\u001b[0m \u001b[0;32mnot\u001b[0m \u001b[0misinstance\u001b[0m\u001b[0;34m(\u001b[0m\u001b[0mouts\u001b[0m\u001b[0;34m,\u001b[0m \u001b[0mlist\u001b[0m\u001b[0;34m)\u001b[0m\u001b[0;34m:\u001b[0m\u001b[0;34m\u001b[0m\u001b[0m\n\u001b[1;32m   1185\u001b[0m                         \u001b[0mouts\u001b[0m \u001b[0;34m=\u001b[0m \u001b[0;34m[\u001b[0m\u001b[0mouts\u001b[0m\u001b[0;34m]\u001b[0m\u001b[0;34m\u001b[0m\u001b[0m\n",
      "\u001b[0;32m~/anaconda3/lib/python3.6/site-packages/keras/backend/tensorflow_backend.py\u001b[0m in \u001b[0;36m__call__\u001b[0;34m(self, inputs)\u001b[0m\n\u001b[1;32m   2255\u001b[0m         updated = session.run(self.outputs + [self.updates_op],\n\u001b[1;32m   2256\u001b[0m                               \u001b[0mfeed_dict\u001b[0m\u001b[0;34m=\u001b[0m\u001b[0mfeed_dict\u001b[0m\u001b[0;34m,\u001b[0m\u001b[0;34m\u001b[0m\u001b[0m\n\u001b[0;32m-> 2257\u001b[0;31m                               **self.session_kwargs)\n\u001b[0m\u001b[1;32m   2258\u001b[0m         \u001b[0;32mreturn\u001b[0m \u001b[0mupdated\u001b[0m\u001b[0;34m[\u001b[0m\u001b[0;34m:\u001b[0m\u001b[0mlen\u001b[0m\u001b[0;34m(\u001b[0m\u001b[0mself\u001b[0m\u001b[0;34m.\u001b[0m\u001b[0moutputs\u001b[0m\u001b[0;34m)\u001b[0m\u001b[0;34m]\u001b[0m\u001b[0;34m\u001b[0m\u001b[0m\n\u001b[1;32m   2259\u001b[0m \u001b[0;34m\u001b[0m\u001b[0m\n",
      "\u001b[0;32m~/anaconda3/lib/python3.6/site-packages/tensorflow/python/client/session.py\u001b[0m in \u001b[0;36mrun\u001b[0;34m(self, fetches, feed_dict, options, run_metadata)\u001b[0m\n\u001b[1;32m    893\u001b[0m     \u001b[0;32mtry\u001b[0m\u001b[0;34m:\u001b[0m\u001b[0;34m\u001b[0m\u001b[0m\n\u001b[1;32m    894\u001b[0m       result = self._run(None, fetches, feed_dict, options_ptr,\n\u001b[0;32m--> 895\u001b[0;31m                          run_metadata_ptr)\n\u001b[0m\u001b[1;32m    896\u001b[0m       \u001b[0;32mif\u001b[0m \u001b[0mrun_metadata\u001b[0m\u001b[0;34m:\u001b[0m\u001b[0;34m\u001b[0m\u001b[0m\n\u001b[1;32m    897\u001b[0m         \u001b[0mproto_data\u001b[0m \u001b[0;34m=\u001b[0m \u001b[0mtf_session\u001b[0m\u001b[0;34m.\u001b[0m\u001b[0mTF_GetBuffer\u001b[0m\u001b[0;34m(\u001b[0m\u001b[0mrun_metadata_ptr\u001b[0m\u001b[0;34m)\u001b[0m\u001b[0;34m\u001b[0m\u001b[0m\n",
      "\u001b[0;32m~/anaconda3/lib/python3.6/site-packages/tensorflow/python/client/session.py\u001b[0m in \u001b[0;36m_run\u001b[0;34m(self, handle, fetches, feed_dict, options, run_metadata)\u001b[0m\n\u001b[1;32m   1122\u001b[0m     \u001b[0;32mif\u001b[0m \u001b[0mfinal_fetches\u001b[0m \u001b[0;32mor\u001b[0m \u001b[0mfinal_targets\u001b[0m \u001b[0;32mor\u001b[0m \u001b[0;34m(\u001b[0m\u001b[0mhandle\u001b[0m \u001b[0;32mand\u001b[0m \u001b[0mfeed_dict_tensor\u001b[0m\u001b[0;34m)\u001b[0m\u001b[0;34m:\u001b[0m\u001b[0;34m\u001b[0m\u001b[0m\n\u001b[1;32m   1123\u001b[0m       results = self._do_run(handle, final_targets, final_fetches,\n\u001b[0;32m-> 1124\u001b[0;31m                              feed_dict_tensor, options, run_metadata)\n\u001b[0m\u001b[1;32m   1125\u001b[0m     \u001b[0;32melse\u001b[0m\u001b[0;34m:\u001b[0m\u001b[0;34m\u001b[0m\u001b[0m\n\u001b[1;32m   1126\u001b[0m       \u001b[0mresults\u001b[0m \u001b[0;34m=\u001b[0m \u001b[0;34m[\u001b[0m\u001b[0;34m]\u001b[0m\u001b[0;34m\u001b[0m\u001b[0m\n",
      "\u001b[0;32m~/anaconda3/lib/python3.6/site-packages/tensorflow/python/client/session.py\u001b[0m in \u001b[0;36m_do_run\u001b[0;34m(self, handle, target_list, fetch_list, feed_dict, options, run_metadata)\u001b[0m\n\u001b[1;32m   1319\u001b[0m     \u001b[0;32mif\u001b[0m \u001b[0mhandle\u001b[0m \u001b[0;32mis\u001b[0m \u001b[0;32mNone\u001b[0m\u001b[0;34m:\u001b[0m\u001b[0;34m\u001b[0m\u001b[0m\n\u001b[1;32m   1320\u001b[0m       return self._do_call(_run_fn, self._session, feeds, fetches, targets,\n\u001b[0;32m-> 1321\u001b[0;31m                            options, run_metadata)\n\u001b[0m\u001b[1;32m   1322\u001b[0m     \u001b[0;32melse\u001b[0m\u001b[0;34m:\u001b[0m\u001b[0;34m\u001b[0m\u001b[0m\n\u001b[1;32m   1323\u001b[0m       \u001b[0;32mreturn\u001b[0m \u001b[0mself\u001b[0m\u001b[0;34m.\u001b[0m\u001b[0m_do_call\u001b[0m\u001b[0;34m(\u001b[0m\u001b[0m_prun_fn\u001b[0m\u001b[0;34m,\u001b[0m \u001b[0mself\u001b[0m\u001b[0;34m.\u001b[0m\u001b[0m_session\u001b[0m\u001b[0;34m,\u001b[0m \u001b[0mhandle\u001b[0m\u001b[0;34m,\u001b[0m \u001b[0mfeeds\u001b[0m\u001b[0;34m,\u001b[0m \u001b[0mfetches\u001b[0m\u001b[0;34m)\u001b[0m\u001b[0;34m\u001b[0m\u001b[0m\n",
      "\u001b[0;32m~/anaconda3/lib/python3.6/site-packages/tensorflow/python/client/session.py\u001b[0m in \u001b[0;36m_do_call\u001b[0;34m(self, fn, *args)\u001b[0m\n\u001b[1;32m   1325\u001b[0m   \u001b[0;32mdef\u001b[0m \u001b[0m_do_call\u001b[0m\u001b[0;34m(\u001b[0m\u001b[0mself\u001b[0m\u001b[0;34m,\u001b[0m \u001b[0mfn\u001b[0m\u001b[0;34m,\u001b[0m \u001b[0;34m*\u001b[0m\u001b[0margs\u001b[0m\u001b[0;34m)\u001b[0m\u001b[0;34m:\u001b[0m\u001b[0;34m\u001b[0m\u001b[0m\n\u001b[1;32m   1326\u001b[0m     \u001b[0;32mtry\u001b[0m\u001b[0;34m:\u001b[0m\u001b[0;34m\u001b[0m\u001b[0m\n\u001b[0;32m-> 1327\u001b[0;31m       \u001b[0;32mreturn\u001b[0m \u001b[0mfn\u001b[0m\u001b[0;34m(\u001b[0m\u001b[0;34m*\u001b[0m\u001b[0margs\u001b[0m\u001b[0;34m)\u001b[0m\u001b[0;34m\u001b[0m\u001b[0m\n\u001b[0m\u001b[1;32m   1328\u001b[0m     \u001b[0;32mexcept\u001b[0m \u001b[0merrors\u001b[0m\u001b[0;34m.\u001b[0m\u001b[0mOpError\u001b[0m \u001b[0;32mas\u001b[0m \u001b[0me\u001b[0m\u001b[0;34m:\u001b[0m\u001b[0;34m\u001b[0m\u001b[0m\n\u001b[1;32m   1329\u001b[0m       \u001b[0mmessage\u001b[0m \u001b[0;34m=\u001b[0m \u001b[0mcompat\u001b[0m\u001b[0;34m.\u001b[0m\u001b[0mas_text\u001b[0m\u001b[0;34m(\u001b[0m\u001b[0me\u001b[0m\u001b[0;34m.\u001b[0m\u001b[0mmessage\u001b[0m\u001b[0;34m)\u001b[0m\u001b[0;34m\u001b[0m\u001b[0m\n",
      "\u001b[0;32m~/anaconda3/lib/python3.6/site-packages/tensorflow/python/client/session.py\u001b[0m in \u001b[0;36m_run_fn\u001b[0;34m(session, feed_dict, fetch_list, target_list, options, run_metadata)\u001b[0m\n\u001b[1;32m   1304\u001b[0m           return tf_session.TF_Run(session, options,\n\u001b[1;32m   1305\u001b[0m                                    \u001b[0mfeed_dict\u001b[0m\u001b[0;34m,\u001b[0m \u001b[0mfetch_list\u001b[0m\u001b[0;34m,\u001b[0m \u001b[0mtarget_list\u001b[0m\u001b[0;34m,\u001b[0m\u001b[0;34m\u001b[0m\u001b[0m\n\u001b[0;32m-> 1306\u001b[0;31m                                    status, run_metadata)\n\u001b[0m\u001b[1;32m   1307\u001b[0m \u001b[0;34m\u001b[0m\u001b[0m\n\u001b[1;32m   1308\u001b[0m     \u001b[0;32mdef\u001b[0m \u001b[0m_prun_fn\u001b[0m\u001b[0;34m(\u001b[0m\u001b[0msession\u001b[0m\u001b[0;34m,\u001b[0m \u001b[0mhandle\u001b[0m\u001b[0;34m,\u001b[0m \u001b[0mfeed_dict\u001b[0m\u001b[0;34m,\u001b[0m \u001b[0mfetch_list\u001b[0m\u001b[0;34m)\u001b[0m\u001b[0;34m:\u001b[0m\u001b[0;34m\u001b[0m\u001b[0m\n",
      "\u001b[0;31mKeyboardInterrupt\u001b[0m: "
     ]
    }
   ],
   "source": [
    "model = Model(inputs=[sequence_1_input, sequence_2_input], \\\n",
    "        outputs=preds)\n",
    "model.compile(loss='binary_crossentropy',\n",
    "        optimizer='nadam',\n",
    "        metrics=['acc'])\n",
    "#model.summary()\n",
    "print(STAMP)\n",
    "\n",
    "early_stopping =EarlyStopping(monitor='val_loss', patience=3)\n",
    "bst_model_path = 'lstm_initial' + '.h5'\n",
    "model_checkpoint = ModelCheckpoint(bst_model_path, save_best_only=True, save_weights_only=True)\n",
    "\n",
    "hist = model.fit([data_1_train, data_2_train, ], labels_train, \\\n",
    "        validation_data=([data_1_val, data_2_val], labels_val), \\\n",
    "        epochs=200, batch_size=2048, shuffle=True, \\\n",
    "        callbacks=[early_stopping, model_checkpoint])"
   ]
  },
  {
   "cell_type": "code",
   "execution_count": 27,
   "metadata": {},
   "outputs": [],
   "source": [
    "np.save('context_train.npy',data_1_train)\n",
    "np.save('abstruct_train.npy',data_2_train)\n",
    "np.save('context_val.npy',data_1_val)\n",
    "np.save('abstruct_val.npy',data_2_val)\n",
    "np.save('labels_train.npy',labels_train)\n",
    "np.save('labels_val.npy',labels_val)"
   ]
  },
  {
   "cell_type": "code",
   "execution_count": null,
   "metadata": {
    "collapsed": true
   },
   "outputs": [],
   "source": [
    "# model.load_weights(bst_model_path)\n",
    "bst_val_score = min(hist.history['val_loss'])"
   ]
  },
  {
   "cell_type": "code",
   "execution_count": null,
   "metadata": {
    "collapsed": true
   },
   "outputs": [],
   "source": [
    "preds = model.predict([test_data_1, test_data_2, test_leaks], batch_size=8192, verbose=1)"
   ]
  },
  {
   "cell_type": "code",
   "execution_count": null,
   "metadata": {
    "collapsed": true
   },
   "outputs": [],
   "source": [
    "submission = pd.DataFrame({'test_id':test_ids, 'is_duplicate':preds.ravel()})\n",
    "submission.to_csv('%.4f_'%(bst_val_score)+STAMP+'.csv', index=False)"
   ]
  },
  {
   "cell_type": "code",
   "execution_count": 29,
   "metadata": {},
   "outputs": [],
   "source": [
    "import xgboost as xgb\n",
    "\n",
    "dtrain = xgb.DMatrix(np.concatenate([data_1_train,data_2_train],axis=1),label=labels_train)\n",
    "dval = xgb.DMatrix(np.concatenate([data_1_val,data_2_val],axis=1),label=labels_val)"
   ]
  },
  {
   "cell_type": "code",
   "execution_count": null,
   "metadata": {
    "scrolled": true
   },
   "outputs": [
    {
     "name": "stdout",
     "output_type": "stream",
     "text": [
      "[0]\ttrain-auc:0.528155\tvalid-auc:0.522039\n",
      "Multiple eval metrics have been passed: 'valid-auc' will be used for early stopping.\n",
      "\n",
      "Will train until valid-auc hasn't improved in 50 rounds.\n",
      "[1]\ttrain-auc:0.528167\tvalid-auc:0.522114\n",
      "[2]\ttrain-auc:0.528407\tvalid-auc:0.522114\n",
      "[3]\ttrain-auc:0.528377\tvalid-auc:0.522025\n",
      "[4]\ttrain-auc:0.528357\tvalid-auc:0.521981\n",
      "[5]\ttrain-auc:0.576319\tvalid-auc:0.577272\n",
      "[6]\ttrain-auc:0.576933\tvalid-auc:0.576736\n",
      "[7]\ttrain-auc:0.577125\tvalid-auc:0.576673\n",
      "[8]\ttrain-auc:0.587648\tvalid-auc:0.579242\n",
      "[9]\ttrain-auc:0.591858\tvalid-auc:0.58545\n",
      "[10]\ttrain-auc:0.593272\tvalid-auc:0.586497\n",
      "[11]\ttrain-auc:0.593462\tvalid-auc:0.587756\n",
      "[12]\ttrain-auc:0.598837\tvalid-auc:0.58898\n",
      "[13]\ttrain-auc:0.598925\tvalid-auc:0.588045\n",
      "[14]\ttrain-auc:0.597864\tvalid-auc:0.587882\n",
      "[15]\ttrain-auc:0.601871\tvalid-auc:0.590087\n",
      "[16]\ttrain-auc:0.603362\tvalid-auc:0.591167\n",
      "[17]\ttrain-auc:0.603145\tvalid-auc:0.591233\n",
      "[18]\ttrain-auc:0.603354\tvalid-auc:0.591194\n",
      "[19]\ttrain-auc:0.603883\tvalid-auc:0.593086\n",
      "[20]\ttrain-auc:0.605372\tvalid-auc:0.592971\n",
      "[21]\ttrain-auc:0.605205\tvalid-auc:0.592904\n",
      "[22]\ttrain-auc:0.604489\tvalid-auc:0.592864\n",
      "[23]\ttrain-auc:0.604496\tvalid-auc:0.592759\n",
      "[24]\ttrain-auc:0.605345\tvalid-auc:0.593444\n",
      "[25]\ttrain-auc:0.607874\tvalid-auc:0.596174\n",
      "[26]\ttrain-auc:0.608391\tvalid-auc:0.596236\n",
      "[27]\ttrain-auc:0.609295\tvalid-auc:0.595283\n",
      "[28]\ttrain-auc:0.608726\tvalid-auc:0.59528\n",
      "[29]\ttrain-auc:0.608871\tvalid-auc:0.595703\n",
      "[30]\ttrain-auc:0.608805\tvalid-auc:0.596009\n",
      "[31]\ttrain-auc:0.608622\tvalid-auc:0.59649\n",
      "[32]\ttrain-auc:0.609363\tvalid-auc:0.59574\n",
      "[33]\ttrain-auc:0.609048\tvalid-auc:0.595249\n",
      "[34]\ttrain-auc:0.608982\tvalid-auc:0.595493\n",
      "[35]\ttrain-auc:0.608713\tvalid-auc:0.595534\n",
      "[36]\ttrain-auc:0.608356\tvalid-auc:0.595767\n",
      "[37]\ttrain-auc:0.609993\tvalid-auc:0.596147\n",
      "[38]\ttrain-auc:0.609965\tvalid-auc:0.596383\n",
      "[39]\ttrain-auc:0.610382\tvalid-auc:0.595371\n",
      "[40]\ttrain-auc:0.610212\tvalid-auc:0.595331\n",
      "[41]\ttrain-auc:0.61009\tvalid-auc:0.595221\n",
      "[42]\ttrain-auc:0.611193\tvalid-auc:0.595803\n",
      "[43]\ttrain-auc:0.611689\tvalid-auc:0.595859\n",
      "[44]\ttrain-auc:0.611574\tvalid-auc:0.59586\n",
      "[45]\ttrain-auc:0.611519\tvalid-auc:0.595956\n",
      "[46]\ttrain-auc:0.611558\tvalid-auc:0.594833\n",
      "[47]\ttrain-auc:0.612677\tvalid-auc:0.595101\n",
      "[48]\ttrain-auc:0.612633\tvalid-auc:0.59512\n",
      "[49]\ttrain-auc:0.612658\tvalid-auc:0.594327\n",
      "[50]\ttrain-auc:0.612575\tvalid-auc:0.594431\n",
      "[51]\ttrain-auc:0.613743\tvalid-auc:0.59517\n",
      "[52]\ttrain-auc:0.613814\tvalid-auc:0.594701\n",
      "[53]\ttrain-auc:0.613693\tvalid-auc:0.59455\n",
      "[54]\ttrain-auc:0.614576\tvalid-auc:0.595782\n",
      "[55]\ttrain-auc:0.614663\tvalid-auc:0.59574\n",
      "[56]\ttrain-auc:0.614584\tvalid-auc:0.595826\n",
      "[57]\ttrain-auc:0.61524\tvalid-auc:0.596096\n",
      "[58]\ttrain-auc:0.615279\tvalid-auc:0.596422\n",
      "[59]\ttrain-auc:0.615319\tvalid-auc:0.596459\n",
      "[60]\ttrain-auc:0.615752\tvalid-auc:0.597688\n",
      "[61]\ttrain-auc:0.615816\tvalid-auc:0.597327\n",
      "[62]\ttrain-auc:0.615681\tvalid-auc:0.597232\n",
      "[63]\ttrain-auc:0.616053\tvalid-auc:0.597459\n",
      "[64]\ttrain-auc:0.615884\tvalid-auc:0.597178\n",
      "[65]\ttrain-auc:0.615965\tvalid-auc:0.596967\n",
      "[66]\ttrain-auc:0.616094\tvalid-auc:0.59698\n",
      "[67]\ttrain-auc:0.616594\tvalid-auc:0.596637\n",
      "[68]\ttrain-auc:0.616583\tvalid-auc:0.596217\n",
      "[69]\ttrain-auc:0.616575\tvalid-auc:0.596168\n",
      "[70]\ttrain-auc:0.616462\tvalid-auc:0.596179\n",
      "[71]\ttrain-auc:0.616502\tvalid-auc:0.596087\n",
      "[72]\ttrain-auc:0.616419\tvalid-auc:0.595735\n",
      "[73]\ttrain-auc:0.61629\tvalid-auc:0.595706\n",
      "[74]\ttrain-auc:0.616351\tvalid-auc:0.595691\n",
      "[75]\ttrain-auc:0.616352\tvalid-auc:0.595438\n",
      "[76]\ttrain-auc:0.616223\tvalid-auc:0.595636\n",
      "[77]\ttrain-auc:0.616388\tvalid-auc:0.595711\n",
      "[78]\ttrain-auc:0.617299\tvalid-auc:0.596037\n",
      "[79]\ttrain-auc:0.617389\tvalid-auc:0.595944\n",
      "[80]\ttrain-auc:0.617274\tvalid-auc:0.596048\n",
      "[81]\ttrain-auc:0.617682\tvalid-auc:0.596855\n",
      "[82]\ttrain-auc:0.617753\tvalid-auc:0.596409\n",
      "[83]\ttrain-auc:0.617593\tvalid-auc:0.596507\n",
      "[84]\ttrain-auc:0.617937\tvalid-auc:0.596167\n",
      "[85]\ttrain-auc:0.618022\tvalid-auc:0.596018\n",
      "[86]\ttrain-auc:0.618093\tvalid-auc:0.596019\n",
      "[87]\ttrain-auc:0.618104\tvalid-auc:0.595855\n",
      "[88]\ttrain-auc:0.618614\tvalid-auc:0.59616\n",
      "[89]\ttrain-auc:0.619576\tvalid-auc:0.595937\n",
      "[90]\ttrain-auc:0.619746\tvalid-auc:0.595771\n",
      "[91]\ttrain-auc:0.620031\tvalid-auc:0.595477\n",
      "[92]\ttrain-auc:0.620105\tvalid-auc:0.595359\n",
      "[93]\ttrain-auc:0.620218\tvalid-auc:0.595469\n",
      "[94]\ttrain-auc:0.620896\tvalid-auc:0.596661\n",
      "[95]\ttrain-auc:0.62104\tvalid-auc:0.596583\n",
      "[96]\ttrain-auc:0.621415\tvalid-auc:0.596396\n",
      "[97]\ttrain-auc:0.62147\tvalid-auc:0.596466\n",
      "[98]\ttrain-auc:0.621424\tvalid-auc:0.596337\n",
      "[99]\ttrain-auc:0.62173\tvalid-auc:0.597049\n",
      "[100]\ttrain-auc:0.62202\tvalid-auc:0.596938\n",
      "[101]\ttrain-auc:0.622312\tvalid-auc:0.597786\n",
      "[102]\ttrain-auc:0.623061\tvalid-auc:0.598195\n",
      "[103]\ttrain-auc:0.62312\tvalid-auc:0.598105\n",
      "[104]\ttrain-auc:0.623156\tvalid-auc:0.597925\n",
      "[105]\ttrain-auc:0.623323\tvalid-auc:0.597973\n",
      "[106]\ttrain-auc:0.623958\tvalid-auc:0.598447\n",
      "[107]\ttrain-auc:0.6245\tvalid-auc:0.599351\n",
      "[108]\ttrain-auc:0.624571\tvalid-auc:0.599299\n",
      "[109]\ttrain-auc:0.625116\tvalid-auc:0.599447\n",
      "[110]\ttrain-auc:0.62547\tvalid-auc:0.600194\n",
      "[111]\ttrain-auc:0.625413\tvalid-auc:0.599883\n",
      "[112]\ttrain-auc:0.625746\tvalid-auc:0.59997\n",
      "[113]\ttrain-auc:0.625913\tvalid-auc:0.600584\n",
      "[114]\ttrain-auc:0.625871\tvalid-auc:0.600644\n",
      "[115]\ttrain-auc:0.626096\tvalid-auc:0.600703\n",
      "[116]\ttrain-auc:0.626504\tvalid-auc:0.601065\n",
      "[117]\ttrain-auc:0.626342\tvalid-auc:0.600827\n",
      "[118]\ttrain-auc:0.626478\tvalid-auc:0.601084\n",
      "[119]\ttrain-auc:0.627466\tvalid-auc:0.60163\n",
      "[120]\ttrain-auc:0.62733\tvalid-auc:0.601666\n",
      "[121]\ttrain-auc:0.627477\tvalid-auc:0.601658\n",
      "[122]\ttrain-auc:0.627632\tvalid-auc:0.602059\n",
      "[123]\ttrain-auc:0.627876\tvalid-auc:0.602443\n",
      "[124]\ttrain-auc:0.628325\tvalid-auc:0.603072\n",
      "[125]\ttrain-auc:0.62847\tvalid-auc:0.603128\n",
      "[126]\ttrain-auc:0.628772\tvalid-auc:0.603802\n",
      "[127]\ttrain-auc:0.629004\tvalid-auc:0.604418\n",
      "[128]\ttrain-auc:0.629058\tvalid-auc:0.604767\n",
      "[129]\ttrain-auc:0.6292\tvalid-auc:0.605261\n",
      "[130]\ttrain-auc:0.62931\tvalid-auc:0.605772\n",
      "[131]\ttrain-auc:0.629743\tvalid-auc:0.606214\n",
      "[132]\ttrain-auc:0.629811\tvalid-auc:0.606891\n",
      "[133]\ttrain-auc:0.629928\tvalid-auc:0.607444\n",
      "[134]\ttrain-auc:0.630581\tvalid-auc:0.607605\n",
      "[135]\ttrain-auc:0.630578\tvalid-auc:0.607858\n",
      "[136]\ttrain-auc:0.630938\tvalid-auc:0.608398\n",
      "[137]\ttrain-auc:0.630951\tvalid-auc:0.60875\n",
      "[138]\ttrain-auc:0.630873\tvalid-auc:0.608945\n",
      "[139]\ttrain-auc:0.631177\tvalid-auc:0.609576\n",
      "[140]\ttrain-auc:0.631528\tvalid-auc:0.609686\n",
      "[141]\ttrain-auc:0.631715\tvalid-auc:0.6104\n",
      "[142]\ttrain-auc:0.631591\tvalid-auc:0.610621\n",
      "[143]\ttrain-auc:0.632053\tvalid-auc:0.610536\n",
      "[144]\ttrain-auc:0.632205\tvalid-auc:0.610688\n",
      "[145]\ttrain-auc:0.632521\tvalid-auc:0.611552\n",
      "[146]\ttrain-auc:0.63271\tvalid-auc:0.611418\n",
      "[147]\ttrain-auc:0.632661\tvalid-auc:0.611543\n",
      "[148]\ttrain-auc:0.633062\tvalid-auc:0.611706\n",
      "[149]\ttrain-auc:0.633057\tvalid-auc:0.611893\n",
      "[150]\ttrain-auc:0.633203\tvalid-auc:0.611851\n",
      "[151]\ttrain-auc:0.633342\tvalid-auc:0.612429\n",
      "[152]\ttrain-auc:0.633607\tvalid-auc:0.612437\n",
      "[153]\ttrain-auc:0.633713\tvalid-auc:0.612446\n",
      "[154]\ttrain-auc:0.633626\tvalid-auc:0.612585\n",
      "[155]\ttrain-auc:0.633726\tvalid-auc:0.612594\n",
      "[156]\ttrain-auc:0.633833\tvalid-auc:0.613206\n",
      "[157]\ttrain-auc:0.63404\tvalid-auc:0.613555\n",
      "[158]\ttrain-auc:0.634293\tvalid-auc:0.613421\n",
      "[159]\ttrain-auc:0.634391\tvalid-auc:0.613564\n",
      "[160]\ttrain-auc:0.634229\tvalid-auc:0.613525\n",
      "[161]\ttrain-auc:0.634413\tvalid-auc:0.613276\n",
      "[162]\ttrain-auc:0.634672\tvalid-auc:0.613774\n",
      "[163]\ttrain-auc:0.635081\tvalid-auc:0.61342\n"
     ]
    }
   ],
   "source": [
    "params = {}\n",
    "params['objective'] = 'binary:logistic'\n",
    "params['eval_metric'] = 'auc'\n",
    "params['silent']=0\n",
    "params['eta'] = 0.02\n",
    "params['max_depth'] = 4\n",
    "\n",
    "watchlist = [(dtrain, 'train'), (dval, 'valid')]\n",
    "\n",
    "bst = xgb.train(params, dtrain, 400, watchlist, early_stopping_rounds=50, verbose_eval=1)"
   ]
  },
  {
   "cell_type": "code",
   "execution_count": null,
   "metadata": {
    "collapsed": true
   },
   "outputs": [],
   "source": [
    "bst.predict"
   ]
  }
 ],
 "metadata": {
  "kernelspec": {
   "display_name": "Python 3",
   "language": "python",
   "name": "python3"
  },
  "language_info": {
   "codemirror_mode": {
    "name": "ipython",
    "version": 3
   },
   "file_extension": ".py",
   "mimetype": "text/x-python",
   "name": "python",
   "nbconvert_exporter": "python",
   "pygments_lexer": "ipython3",
   "version": "3.6.2"
  }
 },
 "nbformat": 4,
 "nbformat_minor": 2
}
